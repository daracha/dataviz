{
 "cells": [
  {
   "cell_type": "markdown",
   "metadata": {},
   "source": [
    "# Exploring MovieLens Dataset using R"
   ]
  },
  {
   "cell_type": "code",
   "execution_count": 1,
   "metadata": {},
   "outputs": [
    {
     "name": "stderr",
     "output_type": "stream",
     "text": [
      "Loading tidyverse: ggplot2\n",
      "Loading tidyverse: tibble\n",
      "Loading tidyverse: tidyr\n",
      "Loading tidyverse: readr\n",
      "Loading tidyverse: purrr\n",
      "Loading tidyverse: dplyr\n",
      "Conflicts with tidy packages ---------------------------------------------------\n",
      "filter(): dplyr, stats\n",
      "lag():    dplyr, stats\n"
     ]
    }
   ],
   "source": [
    "#Using tidyverse packages to explore movielens dataset\n",
    "library(tidyverse)"
   ]
  },
  {
   "cell_type": "code",
   "execution_count": 9,
   "metadata": {},
   "outputs": [
    {
     "name": "stdout",
     "output_type": "stream",
     "text": [
      "[1] \"downloading ml-latest-small.zip\"\n"
     ]
    }
   ],
   "source": [
    "#Download movielens data into the folder and unzip it\n",
    "if (!file.exists(file.path('/Users/dc/Dropbox/GitHub/dataviz', \"ml-latest-small.zip\"))) \n",
    "    { print ('downloading ml-latest-small.zip')\n",
    "    download.file(paste0('http://files.grouplens.org/datasets/movielens/', 'ml-latest-small.zip'), \n",
    "                file.path('/Users/dc/Dropbox/GitHub/dataviz', \"ml-latest-small.zip\"))\n",
    "}"
   ]
  },
  {
   "cell_type": "code",
   "execution_count": 14,
   "metadata": {},
   "outputs": [
    {
     "data": {
      "text/html": [
       "<ol class=list-inline>\n",
       "\t<li>'links.csv'</li>\n",
       "\t<li>'movies.csv'</li>\n",
       "\t<li>'ratings.csv'</li>\n",
       "\t<li>'README.txt'</li>\n",
       "\t<li>'tags.csv'</li>\n",
       "</ol>\n"
      ],
      "text/latex": [
       "\\begin{enumerate*}\n",
       "\\item 'links.csv'\n",
       "\\item 'movies.csv'\n",
       "\\item 'ratings.csv'\n",
       "\\item 'README.txt'\n",
       "\\item 'tags.csv'\n",
       "\\end{enumerate*}\n"
      ],
      "text/markdown": [
       "1. 'links.csv'\n",
       "2. 'movies.csv'\n",
       "3. 'ratings.csv'\n",
       "4. 'README.txt'\n",
       "5. 'tags.csv'\n",
       "\n",
       "\n"
      ],
      "text/plain": [
       "[1] \"links.csv\"   \"movies.csv\"  \"ratings.csv\" \"README.txt\"  \"tags.csv\"   "
      ]
     },
     "metadata": {},
     "output_type": "display_data"
    }
   ],
   "source": [
    "#unzipping .zip file\n",
    "unzip(file.path('/Users/dc/Dropbox/GitHub/dataviz', \"ml-latest-small.zip\"), \n",
    "      exdir = '/Users/dc/Dropbox/GitHub/dataviz', overwrite = T)\n",
    "list.files('ml-latest-small/', recursive=T)"
   ]
  },
  {
   "cell_type": "markdown",
   "metadata": {},
   "source": [
    "## Loading Dataset"
   ]
  },
  {
   "cell_type": "code",
   "execution_count": 38,
   "metadata": {},
   "outputs": [
    {
     "name": "stdout",
     "output_type": "stream",
     "text": [
      "[1] \"reading  links  is complete\"\n",
      "[1] \"reading  movies  is complete\"\n",
      "[1] \"reading  ratings  is complete\"\n",
      "[1] \"reading  tags  is complete\"\n"
     ]
    }
   ],
   "source": [
    "data_path <- '/Users/dc/Dropbox/GitHub/dataviz/ml-latest-small'\n",
    "file_names <- c('links', 'movies', 'ratings', 'tags')\n",
    "file_extn <- '.csv'\n",
    "\n",
    "for (file in file_names){\n",
    "    assign(file, read_csv(file.path(data_path,paste0(file, file_extn)),col_types = cols()))\n",
    "    print (paste('reading ',file, ' is complete'))\n",
    "}"
   ]
  },
  {
   "cell_type": "code",
   "execution_count": null,
   "metadata": {},
   "outputs": [],
   "source": []
  },
  {
   "cell_type": "code",
   "execution_count": null,
   "metadata": {
    "collapsed": true
   },
   "outputs": [],
   "source": []
  }
 ],
 "metadata": {
  "kernelspec": {
   "display_name": "R",
   "language": "R",
   "name": "ir"
  },
  "language_info": {
   "codemirror_mode": "r",
   "file_extension": ".r",
   "mimetype": "text/x-r-source",
   "name": "R",
   "pygments_lexer": "r",
   "version": "3.4.2"
  }
 },
 "nbformat": 4,
 "nbformat_minor": 2
}
